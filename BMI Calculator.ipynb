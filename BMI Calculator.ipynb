{
 "cells": [
  {
   "cell_type": "markdown",
   "id": "17feec07-468d-48c5-8141-3d7a081fdcc6",
   "metadata": {},
   "source": [
    "# BMI Calculator"
   ]
  },
  {
   "cell_type": "code",
   "execution_count": null,
   "id": "5888a372-4227-430d-92cf-337f3f4ec12b",
   "metadata": {},
   "outputs": [],
   "source": [
    "#BMI = (weight in kg) / (height in meters x height in meters)"
   ]
  },
  {
   "cell_type": "code",
   "execution_count": 4,
   "id": "324066be-c180-4025-a31e-784af7afb92c",
   "metadata": {},
   "outputs": [
    {
     "name": "stdin",
     "output_type": "stream",
     "text": [
      "Enter Your Name fgh\n",
      "Enter your weight in kg:  -9\n",
      "Enter your height in m:  8\n"
     ]
    },
    {
     "name": "stdout",
     "output_type": "stream",
     "text": [
      "-0.140625\n",
      "Incorrect input: `weight` and `height` should be positive numbers.\n"
     ]
    }
   ],
   "source": [
    "name = input(\"Enter Your Name\")\n",
    "\n",
    "weight = int(input(\"Enter your weight in kg: \"))\n",
    "\n",
    "height = float(input(\"Enter your height in m: \"))\n",
    "\n",
    "BMI = weight / (height * height)\n",
    "\n",
    "print(BMI)\n",
    "\n",
    "if (weight<=0 or height<=0):\n",
    "    print('Incorrect input: `weight` and `height` should be positive numbers.')\n",
    "    quit()\n",
    "elif(BMI<16):\n",
    "    print(name + ', you have Severe Thinness.')\n",
    "elif(BMI<17):\n",
    "    print(name + ', you have Moderate Thinness.')\n",
    "elif(BMI<18.5):\n",
    "    print(name + ', you have Mid Thinness.')\n",
    "elif(BMI<25):\n",
    "    print(name + ', you are Normal.')\n",
    "elif(BMI<30):\n",
    "    print(name + ', you are Overweight.')\n",
    "elif(BMI<35):\n",
    "    print(name + ', you have Obese Class I.')\n",
    "elif(BMI<40):\n",
    "    print(name + ', you have Obese Class II.')\n",
    "elif(BMI>40):\n",
    "    print(name + ', you have Obese Class III.')\n",
    "else:\n",
    "    print('Enter valid imputs.')"
   ]
  },
  {
   "cell_type": "code",
   "execution_count": null,
   "id": "f643e8ad-f3f7-4925-a048-992490e21058",
   "metadata": {},
   "outputs": [],
   "source": [
    "Severe Thinness\t<- 16\n",
    "Moderate Thinness\t16 - 17\n",
    "Mild Thinness\t17 - 18.5\n",
    "Normal\t18.5 - 25\n",
    "Overweight\t25 - 30\n",
    "Obese Class I\t30 - 35\n",
    "Obese Class II\t35 - 40\n",
    "Obese Class III\t> 40"
   ]
  }
 ],
 "metadata": {
  "kernelspec": {
   "display_name": "Python 3 (ipykernel)",
   "language": "python",
   "name": "python3"
  },
  "language_info": {
   "codemirror_mode": {
    "name": "ipython",
    "version": 3
   },
   "file_extension": ".py",
   "mimetype": "text/x-python",
   "name": "python",
   "nbconvert_exporter": "python",
   "pygments_lexer": "ipython3",
   "version": "3.12.4"
  }
 },
 "nbformat": 4,
 "nbformat_minor": 5
}
